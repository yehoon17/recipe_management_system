{
 "cells": [
  {
   "cell_type": "markdown",
   "id": "868ca5e5",
   "metadata": {},
   "source": [
    "# REST API와 GraphQL API 비교"
   ]
  },
  {
   "cell_type": "markdown",
   "id": "804cfe52",
   "metadata": {},
   "source": [
    "#### 환경 설정"
   ]
  },
  {
   "cell_type": "code",
   "execution_count": 1,
   "id": "29181f94-8c1d-4764-b6ab-b0760424727a",
   "metadata": {},
   "outputs": [],
   "source": [
    "import requests\n",
    "import pandas as pd\n",
    "import time"
   ]
  },
  {
   "cell_type": "markdown",
   "id": "46eeaa34",
   "metadata": {},
   "source": [
    "## Over fetching\n",
    "\n",
    "모든 레시피의 id, title, difficultyLevel를 조회하는 경우를 살펴보자."
   ]
  },
  {
   "cell_type": "markdown",
   "id": "29cf5c1a",
   "metadata": {},
   "source": [
    "### REST API"
   ]
  },
  {
   "cell_type": "code",
   "execution_count": 2,
   "id": "5a0845d1-1bd8-4a0b-8a88-b18e4c42a409",
   "metadata": {},
   "outputs": [
    {
     "name": "stdout",
     "output_type": "stream",
     "text": [
      "2.0384984016418457\n"
     ]
    }
   ],
   "source": [
    "recipe_list_url = 'http://localhost:8000/rest-api/recipe/'\n",
    "\n",
    "start = time.time()\n",
    "response = requests.get(recipe_list_url)\n",
    "end = time.time()\n",
    "print(end - start)"
   ]
  },
  {
   "cell_type": "code",
   "execution_count": 3,
   "id": "5905cff3-8fc5-470d-8a56-1d6d6dc54a5c",
   "metadata": {},
   "outputs": [
    {
     "data": {
      "text/html": [
       "<div>\n",
       "<style scoped>\n",
       "    .dataframe tbody tr th:only-of-type {\n",
       "        vertical-align: middle;\n",
       "    }\n",
       "\n",
       "    .dataframe tbody tr th {\n",
       "        vertical-align: top;\n",
       "    }\n",
       "\n",
       "    .dataframe thead th {\n",
       "        text-align: right;\n",
       "    }\n",
       "</style>\n",
       "<table border=\"1\" class=\"dataframe\">\n",
       "  <thead>\n",
       "    <tr style=\"text-align: right;\">\n",
       "      <th></th>\n",
       "      <th>id</th>\n",
       "      <th>user</th>\n",
       "      <th>title</th>\n",
       "      <th>description</th>\n",
       "      <th>preparation_time</th>\n",
       "      <th>cooking_time</th>\n",
       "      <th>difficulty_level</th>\n",
       "    </tr>\n",
       "  </thead>\n",
       "  <tbody>\n",
       "    <tr>\n",
       "      <th>0</th>\n",
       "      <td>1</td>\n",
       "      <td>2</td>\n",
       "      <td>Korean Bibimbap zz</td>\n",
       "      <td>Bibimbap is a signature Korean dish known for ...</td>\n",
       "      <td>30</td>\n",
       "      <td>25</td>\n",
       "      <td>Moderate</td>\n",
       "    </tr>\n",
       "    <tr>\n",
       "      <th>1</th>\n",
       "      <td>2</td>\n",
       "      <td>2</td>\n",
       "      <td>Kimchijeon</td>\n",
       "      <td>Kimchijeon is a savory Korean pancake made wit...</td>\n",
       "      <td>15</td>\n",
       "      <td>15</td>\n",
       "      <td>Easy</td>\n",
       "    </tr>\n",
       "    <tr>\n",
       "      <th>2</th>\n",
       "      <td>3</td>\n",
       "      <td>2</td>\n",
       "      <td>Dubu Jorim</td>\n",
       "      <td>Dubu Jorim is a flavorful Korean tofu dish coo...</td>\n",
       "      <td>15</td>\n",
       "      <td>20</td>\n",
       "      <td>Easy</td>\n",
       "    </tr>\n",
       "    <tr>\n",
       "      <th>3</th>\n",
       "      <td>4</td>\n",
       "      <td>3</td>\n",
       "      <td>계란 후라이</td>\n",
       "      <td>egg fry</td>\n",
       "      <td>0</td>\n",
       "      <td>3</td>\n",
       "      <td>쉬움</td>\n",
       "    </tr>\n",
       "    <tr>\n",
       "      <th>4</th>\n",
       "      <td>5</td>\n",
       "      <td>2</td>\n",
       "      <td>Scramble Egg</td>\n",
       "      <td>Egg</td>\n",
       "      <td>0</td>\n",
       "      <td>3</td>\n",
       "      <td>Easy</td>\n",
       "    </tr>\n",
       "  </tbody>\n",
       "</table>\n",
       "</div>"
      ],
      "text/plain": [
       "   id  user               title  \\\n",
       "0   1     2  Korean Bibimbap zz   \n",
       "1   2     2          Kimchijeon   \n",
       "2   3     2          Dubu Jorim   \n",
       "3   4     3              계란 후라이   \n",
       "4   5     2        Scramble Egg   \n",
       "\n",
       "                                         description  preparation_time  \\\n",
       "0  Bibimbap is a signature Korean dish known for ...                30   \n",
       "1  Kimchijeon is a savory Korean pancake made wit...                15   \n",
       "2  Dubu Jorim is a flavorful Korean tofu dish coo...                15   \n",
       "3                                            egg fry                 0   \n",
       "4                                                Egg                 0   \n",
       "\n",
       "   cooking_time difficulty_level  \n",
       "0            25         Moderate  \n",
       "1            15             Easy  \n",
       "2            20             Easy  \n",
       "3             3               쉬움  \n",
       "4             3             Easy  "
      ]
     },
     "execution_count": 3,
     "metadata": {},
     "output_type": "execute_result"
    }
   ],
   "source": [
    "recipe_list = response.json()\n",
    "df = pd.DataFrame(recipe_list)\n",
    "df.head()"
   ]
  },
  {
   "cell_type": "markdown",
   "id": "94b344f3",
   "metadata": {},
   "source": [
    "레시피의 user, description, preparation_time, cooking_time까지 조회되게 된다."
   ]
  },
  {
   "cell_type": "markdown",
   "id": "1e8838ca",
   "metadata": {},
   "source": [
    "### GraphQL\n",
    "\n"
   ]
  },
  {
   "cell_type": "code",
   "execution_count": 4,
   "id": "2a1a0ccb-cde1-48b7-8c10-7f1a3bccbd9f",
   "metadata": {},
   "outputs": [],
   "source": [
    "recipe_query = \"\"\"query MyQuery {\n",
    "  allRecipes {\n",
    "    id\n",
    "    title\n",
    "    difficultyLevel\n",
    "  }\n",
    "}\"\"\""
   ]
  },
  {
   "cell_type": "code",
   "execution_count": 5,
   "id": "2f961211-4142-467c-927b-54586ab970df",
   "metadata": {},
   "outputs": [
    {
     "name": "stdout",
     "output_type": "stream",
     "text": [
      "2.048164129257202\n"
     ]
    }
   ],
   "source": [
    "graphql_url = 'http://localhost:8000/graphql/'  \n",
    "\n",
    "\n",
    "start = time.time()\n",
    "response = requests.get(graphql_url, json={'query': recipe_query})\n",
    "end = time.time()\n",
    "print(end - start)"
   ]
  },
  {
   "cell_type": "code",
   "execution_count": 6,
   "id": "f2725fd3-084a-4cc4-8229-173819c2d98e",
   "metadata": {},
   "outputs": [
    {
     "data": {
      "text/html": [
       "<div>\n",
       "<style scoped>\n",
       "    .dataframe tbody tr th:only-of-type {\n",
       "        vertical-align: middle;\n",
       "    }\n",
       "\n",
       "    .dataframe tbody tr th {\n",
       "        vertical-align: top;\n",
       "    }\n",
       "\n",
       "    .dataframe thead th {\n",
       "        text-align: right;\n",
       "    }\n",
       "</style>\n",
       "<table border=\"1\" class=\"dataframe\">\n",
       "  <thead>\n",
       "    <tr style=\"text-align: right;\">\n",
       "      <th></th>\n",
       "      <th>id</th>\n",
       "      <th>title</th>\n",
       "      <th>difficultyLevel</th>\n",
       "    </tr>\n",
       "  </thead>\n",
       "  <tbody>\n",
       "    <tr>\n",
       "      <th>0</th>\n",
       "      <td>1</td>\n",
       "      <td>Korean Bibimbap zz</td>\n",
       "      <td>Moderate</td>\n",
       "    </tr>\n",
       "    <tr>\n",
       "      <th>1</th>\n",
       "      <td>2</td>\n",
       "      <td>Kimchijeon</td>\n",
       "      <td>Easy</td>\n",
       "    </tr>\n",
       "    <tr>\n",
       "      <th>2</th>\n",
       "      <td>3</td>\n",
       "      <td>Dubu Jorim</td>\n",
       "      <td>Easy</td>\n",
       "    </tr>\n",
       "    <tr>\n",
       "      <th>3</th>\n",
       "      <td>4</td>\n",
       "      <td>계란 후라이</td>\n",
       "      <td>쉬움</td>\n",
       "    </tr>\n",
       "    <tr>\n",
       "      <th>4</th>\n",
       "      <td>5</td>\n",
       "      <td>Scramble Egg</td>\n",
       "      <td>Easy</td>\n",
       "    </tr>\n",
       "  </tbody>\n",
       "</table>\n",
       "</div>"
      ],
      "text/plain": [
       "  id               title difficultyLevel\n",
       "0  1  Korean Bibimbap zz        Moderate\n",
       "1  2          Kimchijeon            Easy\n",
       "2  3          Dubu Jorim            Easy\n",
       "3  4              계란 후라이              쉬움\n",
       "4  5        Scramble Egg            Easy"
      ]
     },
     "execution_count": 6,
     "metadata": {},
     "output_type": "execute_result"
    }
   ],
   "source": [
    "recipe_list = response.json()['data']['allRecipes']\n",
    "df = pd.DataFrame(recipe_list)\n",
    "df.head()"
   ]
  },
  {
   "cell_type": "markdown",
   "id": "8d2d80bf-ba1c-4fdd-85e8-06d9598b2ae6",
   "metadata": {},
   "source": [
    "## Under fetching\n",
    "\n",
    "모든 레시피의 id, title, difficultyLevel와 레시피에 들어가는 재료의 정보를 조회하는 경우를 살펴보자.\n"
   ]
  },
  {
   "cell_type": "markdown",
   "id": "2f7b5c20-a7fa-4ac5-ae77-280f235f3867",
   "metadata": {},
   "source": [
    "### REST API"
   ]
  },
  {
   "cell_type": "code",
   "execution_count": 7,
   "id": "35bae694",
   "metadata": {},
   "outputs": [],
   "source": [
    "start = time.time()"
   ]
  },
  {
   "cell_type": "code",
   "execution_count": 8,
   "id": "8165b2af",
   "metadata": {},
   "outputs": [
    {
     "data": {
      "text/html": [
       "<div>\n",
       "<style scoped>\n",
       "    .dataframe tbody tr th:only-of-type {\n",
       "        vertical-align: middle;\n",
       "    }\n",
       "\n",
       "    .dataframe tbody tr th {\n",
       "        vertical-align: top;\n",
       "    }\n",
       "\n",
       "    .dataframe thead th {\n",
       "        text-align: right;\n",
       "    }\n",
       "</style>\n",
       "<table border=\"1\" class=\"dataframe\">\n",
       "  <thead>\n",
       "    <tr style=\"text-align: right;\">\n",
       "      <th></th>\n",
       "      <th>id</th>\n",
       "      <th>user</th>\n",
       "      <th>title</th>\n",
       "      <th>description</th>\n",
       "      <th>preparation_time</th>\n",
       "      <th>cooking_time</th>\n",
       "      <th>difficulty_level</th>\n",
       "    </tr>\n",
       "  </thead>\n",
       "  <tbody>\n",
       "    <tr>\n",
       "      <th>0</th>\n",
       "      <td>1</td>\n",
       "      <td>2</td>\n",
       "      <td>Korean Bibimbap zz</td>\n",
       "      <td>Bibimbap is a signature Korean dish known for ...</td>\n",
       "      <td>30</td>\n",
       "      <td>25</td>\n",
       "      <td>Moderate</td>\n",
       "    </tr>\n",
       "    <tr>\n",
       "      <th>1</th>\n",
       "      <td>2</td>\n",
       "      <td>2</td>\n",
       "      <td>Kimchijeon</td>\n",
       "      <td>Kimchijeon is a savory Korean pancake made wit...</td>\n",
       "      <td>15</td>\n",
       "      <td>15</td>\n",
       "      <td>Easy</td>\n",
       "    </tr>\n",
       "    <tr>\n",
       "      <th>2</th>\n",
       "      <td>3</td>\n",
       "      <td>2</td>\n",
       "      <td>Dubu Jorim</td>\n",
       "      <td>Dubu Jorim is a flavorful Korean tofu dish coo...</td>\n",
       "      <td>15</td>\n",
       "      <td>20</td>\n",
       "      <td>Easy</td>\n",
       "    </tr>\n",
       "    <tr>\n",
       "      <th>3</th>\n",
       "      <td>4</td>\n",
       "      <td>3</td>\n",
       "      <td>계란 후라이</td>\n",
       "      <td>egg fry</td>\n",
       "      <td>0</td>\n",
       "      <td>3</td>\n",
       "      <td>쉬움</td>\n",
       "    </tr>\n",
       "    <tr>\n",
       "      <th>4</th>\n",
       "      <td>5</td>\n",
       "      <td>2</td>\n",
       "      <td>Scramble Egg</td>\n",
       "      <td>Egg</td>\n",
       "      <td>0</td>\n",
       "      <td>3</td>\n",
       "      <td>Easy</td>\n",
       "    </tr>\n",
       "  </tbody>\n",
       "</table>\n",
       "</div>"
      ],
      "text/plain": [
       "   id  user               title  \\\n",
       "0   1     2  Korean Bibimbap zz   \n",
       "1   2     2          Kimchijeon   \n",
       "2   3     2          Dubu Jorim   \n",
       "3   4     3              계란 후라이   \n",
       "4   5     2        Scramble Egg   \n",
       "\n",
       "                                         description  preparation_time  \\\n",
       "0  Bibimbap is a signature Korean dish known for ...                30   \n",
       "1  Kimchijeon is a savory Korean pancake made wit...                15   \n",
       "2  Dubu Jorim is a flavorful Korean tofu dish coo...                15   \n",
       "3                                            egg fry                 0   \n",
       "4                                                Egg                 0   \n",
       "\n",
       "   cooking_time difficulty_level  \n",
       "0            25         Moderate  \n",
       "1            15             Easy  \n",
       "2            20             Easy  \n",
       "3             3               쉬움  \n",
       "4             3             Easy  "
      ]
     },
     "execution_count": 8,
     "metadata": {},
     "output_type": "execute_result"
    }
   ],
   "source": [
    "recipe_list_url = 'http://localhost:8000/rest-api/recipe/'\n",
    "response = requests.get(recipe_list_url)\n",
    "\n",
    "recipe_list = response.json()\n",
    "recipe_df = pd.DataFrame(recipe_list)\n",
    "recipe_df.head()"
   ]
  },
  {
   "cell_type": "code",
   "execution_count": 9,
   "id": "313397ce-59e5-4693-9df1-8bdf87d40499",
   "metadata": {},
   "outputs": [
    {
     "data": {
      "text/html": [
       "<div>\n",
       "<style scoped>\n",
       "    .dataframe tbody tr th:only-of-type {\n",
       "        vertical-align: middle;\n",
       "    }\n",
       "\n",
       "    .dataframe tbody tr th {\n",
       "        vertical-align: top;\n",
       "    }\n",
       "\n",
       "    .dataframe thead th {\n",
       "        text-align: right;\n",
       "    }\n",
       "</style>\n",
       "<table border=\"1\" class=\"dataframe\">\n",
       "  <thead>\n",
       "    <tr style=\"text-align: right;\">\n",
       "      <th></th>\n",
       "      <th>recipe</th>\n",
       "      <th>ingredient</th>\n",
       "      <th>quantity</th>\n",
       "      <th>unit</th>\n",
       "    </tr>\n",
       "  </thead>\n",
       "  <tbody>\n",
       "    <tr>\n",
       "      <th>0</th>\n",
       "      <td>1</td>\n",
       "      <td>1</td>\n",
       "      <td>4.00</td>\n",
       "      <td>cups</td>\n",
       "    </tr>\n",
       "    <tr>\n",
       "      <th>1</th>\n",
       "      <td>1</td>\n",
       "      <td>2</td>\n",
       "      <td>200.00</td>\n",
       "      <td>grams</td>\n",
       "    </tr>\n",
       "    <tr>\n",
       "      <th>2</th>\n",
       "      <td>1</td>\n",
       "      <td>3</td>\n",
       "      <td>3.00</td>\n",
       "      <td>tablespoons</td>\n",
       "    </tr>\n",
       "    <tr>\n",
       "      <th>3</th>\n",
       "      <td>1</td>\n",
       "      <td>4</td>\n",
       "      <td>2.00</td>\n",
       "      <td>tablespoons</td>\n",
       "    </tr>\n",
       "    <tr>\n",
       "      <th>4</th>\n",
       "      <td>1</td>\n",
       "      <td>5</td>\n",
       "      <td>1.00</td>\n",
       "      <td>tablespoons</td>\n",
       "    </tr>\n",
       "  </tbody>\n",
       "</table>\n",
       "</div>"
      ],
      "text/plain": [
       "   recipe  ingredient quantity         unit\n",
       "0       1           1     4.00         cups\n",
       "1       1           2   200.00        grams\n",
       "2       1           3     3.00  tablespoons\n",
       "3       1           4     2.00  tablespoons\n",
       "4       1           5     1.00  tablespoons"
      ]
     },
     "execution_count": 9,
     "metadata": {},
     "output_type": "execute_result"
    }
   ],
   "source": [
    "recipe_ingredient_list_url = 'http://localhost:8000/rest-api/recipe-ingredient/'\n",
    "response = requests.get(recipe_ingredient_list_url)\n",
    "\n",
    "recipe_ingredient_list = response.json()\n",
    "recipe_ingredient_df = pd.DataFrame(recipe_ingredient_list)\n",
    "recipe_ingredient_df.head()"
   ]
  },
  {
   "cell_type": "code",
   "execution_count": 10,
   "id": "06ee91db-3ca6-463c-a206-196259215996",
   "metadata": {},
   "outputs": [
    {
     "data": {
      "text/html": [
       "<div>\n",
       "<style scoped>\n",
       "    .dataframe tbody tr th:only-of-type {\n",
       "        vertical-align: middle;\n",
       "    }\n",
       "\n",
       "    .dataframe tbody tr th {\n",
       "        vertical-align: top;\n",
       "    }\n",
       "\n",
       "    .dataframe thead th {\n",
       "        text-align: right;\n",
       "    }\n",
       "</style>\n",
       "<table border=\"1\" class=\"dataframe\">\n",
       "  <thead>\n",
       "    <tr style=\"text-align: right;\">\n",
       "      <th></th>\n",
       "      <th>id</th>\n",
       "      <th>name</th>\n",
       "    </tr>\n",
       "  </thead>\n",
       "  <tbody>\n",
       "    <tr>\n",
       "      <th>0</th>\n",
       "      <td>1</td>\n",
       "      <td>Cooked rice</td>\n",
       "    </tr>\n",
       "    <tr>\n",
       "      <th>1</th>\n",
       "      <td>2</td>\n",
       "      <td>Beef</td>\n",
       "    </tr>\n",
       "    <tr>\n",
       "      <th>2</th>\n",
       "      <td>3</td>\n",
       "      <td>Soy sauce</td>\n",
       "    </tr>\n",
       "    <tr>\n",
       "      <th>3</th>\n",
       "      <td>4</td>\n",
       "      <td>Sesame oil</td>\n",
       "    </tr>\n",
       "    <tr>\n",
       "      <th>4</th>\n",
       "      <td>5</td>\n",
       "      <td>Sugar</td>\n",
       "    </tr>\n",
       "  </tbody>\n",
       "</table>\n",
       "</div>"
      ],
      "text/plain": [
       "   id         name\n",
       "0   1  Cooked rice\n",
       "1   2        Beef \n",
       "2   3    Soy sauce\n",
       "3   4   Sesame oil\n",
       "4   5        Sugar"
      ]
     },
     "execution_count": 10,
     "metadata": {},
     "output_type": "execute_result"
    }
   ],
   "source": [
    "ingredient_list_url = 'http://localhost:8000/rest-api/ingredient/'\n",
    "response = requests.get(ingredient_list_url)\n",
    "ingredient_list = response.json()\n",
    "ingredient_df = pd.DataFrame(ingredient_list)\n",
    "ingredient_df.head()"
   ]
  },
  {
   "cell_type": "code",
   "execution_count": 11,
   "id": "1105cfaa",
   "metadata": {},
   "outputs": [],
   "source": [
    "cols = ['id', 'title', 'difficulty_level']\n",
    "recipe_df = recipe_df[cols]"
   ]
  },
  {
   "cell_type": "code",
   "execution_count": 12,
   "id": "65aa7c4b",
   "metadata": {},
   "outputs": [
    {
     "data": {
      "text/html": [
       "<div>\n",
       "<style scoped>\n",
       "    .dataframe tbody tr th:only-of-type {\n",
       "        vertical-align: middle;\n",
       "    }\n",
       "\n",
       "    .dataframe tbody tr th {\n",
       "        vertical-align: top;\n",
       "    }\n",
       "\n",
       "    .dataframe thead th {\n",
       "        text-align: right;\n",
       "    }\n",
       "</style>\n",
       "<table border=\"1\" class=\"dataframe\">\n",
       "  <thead>\n",
       "    <tr style=\"text-align: right;\">\n",
       "      <th></th>\n",
       "      <th>id</th>\n",
       "      <th>quantity</th>\n",
       "      <th>unit</th>\n",
       "      <th>title</th>\n",
       "      <th>difficulty_level</th>\n",
       "      <th>ingredient_name</th>\n",
       "    </tr>\n",
       "  </thead>\n",
       "  <tbody>\n",
       "    <tr>\n",
       "      <th>0</th>\n",
       "      <td>1</td>\n",
       "      <td>4.00</td>\n",
       "      <td>cups</td>\n",
       "      <td>Korean Bibimbap zz</td>\n",
       "      <td>Moderate</td>\n",
       "      <td>Cooked rice</td>\n",
       "    </tr>\n",
       "    <tr>\n",
       "      <th>1</th>\n",
       "      <td>1</td>\n",
       "      <td>200.00</td>\n",
       "      <td>grams</td>\n",
       "      <td>Korean Bibimbap zz</td>\n",
       "      <td>Moderate</td>\n",
       "      <td>Beef</td>\n",
       "    </tr>\n",
       "    <tr>\n",
       "      <th>2</th>\n",
       "      <td>1</td>\n",
       "      <td>3.00</td>\n",
       "      <td>tablespoons</td>\n",
       "      <td>Korean Bibimbap zz</td>\n",
       "      <td>Moderate</td>\n",
       "      <td>Soy sauce</td>\n",
       "    </tr>\n",
       "    <tr>\n",
       "      <th>3</th>\n",
       "      <td>1</td>\n",
       "      <td>2.00</td>\n",
       "      <td>tablespoons</td>\n",
       "      <td>Korean Bibimbap zz</td>\n",
       "      <td>Moderate</td>\n",
       "      <td>Sesame oil</td>\n",
       "    </tr>\n",
       "    <tr>\n",
       "      <th>4</th>\n",
       "      <td>1</td>\n",
       "      <td>1.00</td>\n",
       "      <td>tablespoons</td>\n",
       "      <td>Korean Bibimbap zz</td>\n",
       "      <td>Moderate</td>\n",
       "      <td>Sugar</td>\n",
       "    </tr>\n",
       "  </tbody>\n",
       "</table>\n",
       "</div>"
      ],
      "text/plain": [
       "   id quantity         unit               title difficulty_level  \\\n",
       "0   1     4.00         cups  Korean Bibimbap zz         Moderate   \n",
       "1   1   200.00        grams  Korean Bibimbap zz         Moderate   \n",
       "2   1     3.00  tablespoons  Korean Bibimbap zz         Moderate   \n",
       "3   1     2.00  tablespoons  Korean Bibimbap zz         Moderate   \n",
       "4   1     1.00  tablespoons  Korean Bibimbap zz         Moderate   \n",
       "\n",
       "  ingredient_name  \n",
       "0     Cooked rice  \n",
       "1           Beef   \n",
       "2       Soy sauce  \n",
       "3      Sesame oil  \n",
       "4           Sugar  "
      ]
     },
     "execution_count": 12,
     "metadata": {},
     "output_type": "execute_result"
    }
   ],
   "source": [
    "df = (\n",
    "    recipe_ingredient_df\n",
    "    .merge(recipe_df, left_on='recipe', right_on='id', how='left')\n",
    "    .drop(columns=['id'])\n",
    "    .merge(ingredient_df, left_on='ingredient', right_on='id', how='left')\n",
    "    .drop(columns=['id', 'ingredient'])\n",
    "    .rename(columns={'name': 'ingredient_name', 'recipe': 'id'})\n",
    ")\n",
    "df.head()"
   ]
  },
  {
   "cell_type": "code",
   "execution_count": 13,
   "id": "37fd11a2",
   "metadata": {},
   "outputs": [
    {
     "name": "stdout",
     "output_type": "stream",
     "text": [
      "6.246707439422607\n"
     ]
    }
   ],
   "source": [
    "end = time.time()\n",
    "print(end - start)"
   ]
  },
  {
   "cell_type": "markdown",
   "id": "83e055e5",
   "metadata": {},
   "source": [
    "필요한 정보를 전부 가져오기 위해 여러 번의 요청을 보내야 한다. "
   ]
  },
  {
   "cell_type": "markdown",
   "id": "209179c4",
   "metadata": {},
   "source": [
    "### GraphQL\n",
    "\n"
   ]
  },
  {
   "cell_type": "code",
   "execution_count": 14,
   "id": "0a5466e2-102b-41cc-a62a-618ba143f0ed",
   "metadata": {},
   "outputs": [],
   "source": [
    "recipe_ingredient_query = \"\"\"query MyQuery {\n",
    "  allRecipes {\n",
    "    id\n",
    "    title\n",
    "    difficultyLevel\n",
    "    recipeingredientSet {\n",
    "      ingredient {\n",
    "        name\n",
    "      }\n",
    "      quantity\n",
    "      unit\n",
    "    }\n",
    "  }\n",
    "}\"\"\""
   ]
  },
  {
   "cell_type": "code",
   "execution_count": 15,
   "id": "2bee1cea-820d-4dbf-8f93-ca363196a89e",
   "metadata": {},
   "outputs": [
    {
     "name": "stdout",
     "output_type": "stream",
     "text": [
      "2.2221717834472656\n"
     ]
    }
   ],
   "source": [
    "start = time.time()\n",
    "response = requests.get(graphql_url, json={'query': recipe_ingredient_query})\n",
    "recipe_list = response.json()['data']['allRecipes']\n",
    "end = time.time()\n",
    "print(end - start)"
   ]
  },
  {
   "cell_type": "code",
   "execution_count": 16,
   "id": "cb4ffc53-d458-49d9-a820-a186077a261c",
   "metadata": {},
   "outputs": [
    {
     "data": {
      "text/html": [
       "<div>\n",
       "<style scoped>\n",
       "    .dataframe tbody tr th:only-of-type {\n",
       "        vertical-align: middle;\n",
       "    }\n",
       "\n",
       "    .dataframe tbody tr th {\n",
       "        vertical-align: top;\n",
       "    }\n",
       "\n",
       "    .dataframe thead th {\n",
       "        text-align: right;\n",
       "    }\n",
       "</style>\n",
       "<table border=\"1\" class=\"dataframe\">\n",
       "  <thead>\n",
       "    <tr style=\"text-align: right;\">\n",
       "      <th></th>\n",
       "      <th>quantity</th>\n",
       "      <th>unit</th>\n",
       "      <th>ingredient.name</th>\n",
       "      <th>id</th>\n",
       "      <th>title</th>\n",
       "      <th>difficultyLevel</th>\n",
       "    </tr>\n",
       "  </thead>\n",
       "  <tbody>\n",
       "    <tr>\n",
       "      <th>0</th>\n",
       "      <td>4.00</td>\n",
       "      <td>cups</td>\n",
       "      <td>Cooked rice</td>\n",
       "      <td>1</td>\n",
       "      <td>Korean Bibimbap zz</td>\n",
       "      <td>Moderate</td>\n",
       "    </tr>\n",
       "    <tr>\n",
       "      <th>1</th>\n",
       "      <td>200.00</td>\n",
       "      <td>grams</td>\n",
       "      <td>Beef</td>\n",
       "      <td>1</td>\n",
       "      <td>Korean Bibimbap zz</td>\n",
       "      <td>Moderate</td>\n",
       "    </tr>\n",
       "    <tr>\n",
       "      <th>2</th>\n",
       "      <td>3.00</td>\n",
       "      <td>tablespoons</td>\n",
       "      <td>Soy sauce</td>\n",
       "      <td>1</td>\n",
       "      <td>Korean Bibimbap zz</td>\n",
       "      <td>Moderate</td>\n",
       "    </tr>\n",
       "    <tr>\n",
       "      <th>3</th>\n",
       "      <td>2.00</td>\n",
       "      <td>tablespoons</td>\n",
       "      <td>Sesame oil</td>\n",
       "      <td>1</td>\n",
       "      <td>Korean Bibimbap zz</td>\n",
       "      <td>Moderate</td>\n",
       "    </tr>\n",
       "    <tr>\n",
       "      <th>4</th>\n",
       "      <td>1.00</td>\n",
       "      <td>tablespoons</td>\n",
       "      <td>Sugar</td>\n",
       "      <td>1</td>\n",
       "      <td>Korean Bibimbap zz</td>\n",
       "      <td>Moderate</td>\n",
       "    </tr>\n",
       "  </tbody>\n",
       "</table>\n",
       "</div>"
      ],
      "text/plain": [
       "  quantity         unit ingredient.name id               title difficultyLevel\n",
       "0     4.00         cups     Cooked rice  1  Korean Bibimbap zz        Moderate\n",
       "1   200.00        grams           Beef   1  Korean Bibimbap zz        Moderate\n",
       "2     3.00  tablespoons       Soy sauce  1  Korean Bibimbap zz        Moderate\n",
       "3     2.00  tablespoons      Sesame oil  1  Korean Bibimbap zz        Moderate\n",
       "4     1.00  tablespoons           Sugar  1  Korean Bibimbap zz        Moderate"
      ]
     },
     "execution_count": 16,
     "metadata": {},
     "output_type": "execute_result"
    }
   ],
   "source": [
    "df = pd.json_normalize(\n",
    "    recipe_list,\n",
    "    record_path='recipeingredientSet',\n",
    "    meta=['id', 'title', 'difficultyLevel']\n",
    ")\n",
    "df.head()"
   ]
  },
  {
   "cell_type": "markdown",
   "id": "e9f205c0",
   "metadata": {},
   "source": [
    "한번의 요청으로 필요한 데이터를 전부 가져온다."
   ]
  }
 ],
 "metadata": {
  "kernelspec": {
   "display_name": "Python 3 (ipykernel)",
   "language": "python",
   "name": "python3"
  },
  "language_info": {
   "codemirror_mode": {
    "name": "ipython",
    "version": 3
   },
   "file_extension": ".py",
   "mimetype": "text/x-python",
   "name": "python",
   "nbconvert_exporter": "python",
   "pygments_lexer": "ipython3",
   "version": "3.11.4"
  }
 },
 "nbformat": 4,
 "nbformat_minor": 5
}
