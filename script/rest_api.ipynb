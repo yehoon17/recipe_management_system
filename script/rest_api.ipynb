{
 "cells": [
  {
   "cell_type": "code",
   "execution_count": 14,
   "id": "29181f94-8c1d-4764-b6ab-b0760424727a",
   "metadata": {},
   "outputs": [],
   "source": [
    "import requests\n",
    "import pandas as pd"
   ]
  },
  {
   "cell_type": "code",
   "execution_count": 22,
   "id": "5a0845d1-1bd8-4a0b-8a88-b18e4c42a409",
   "metadata": {},
   "outputs": [],
   "source": [
    "recipe_list_url = 'http://localhost:8000/rest-api/recipe/'\n",
    "\n",
    "response = requests.get(recipe_list_url)"
   ]
  },
  {
   "cell_type": "code",
   "execution_count": 23,
   "id": "5905cff3-8fc5-470d-8a56-1d6d6dc54a5c",
   "metadata": {},
   "outputs": [
    {
     "data": {
      "text/html": [
       "<div>\n",
       "<style scoped>\n",
       "    .dataframe tbody tr th:only-of-type {\n",
       "        vertical-align: middle;\n",
       "    }\n",
       "\n",
       "    .dataframe tbody tr th {\n",
       "        vertical-align: top;\n",
       "    }\n",
       "\n",
       "    .dataframe thead th {\n",
       "        text-align: right;\n",
       "    }\n",
       "</style>\n",
       "<table border=\"1\" class=\"dataframe\">\n",
       "  <thead>\n",
       "    <tr style=\"text-align: right;\">\n",
       "      <th></th>\n",
       "      <th>id</th>\n",
       "      <th>user</th>\n",
       "      <th>title</th>\n",
       "      <th>description</th>\n",
       "      <th>preparation_time</th>\n",
       "      <th>cooking_time</th>\n",
       "      <th>difficulty_level</th>\n",
       "    </tr>\n",
       "  </thead>\n",
       "  <tbody>\n",
       "    <tr>\n",
       "      <th>0</th>\n",
       "      <td>1</td>\n",
       "      <td>2</td>\n",
       "      <td>Korean Bibimbap zz</td>\n",
       "      <td>Bibimbap is a signature Korean dish known for ...</td>\n",
       "      <td>30</td>\n",
       "      <td>25</td>\n",
       "      <td>Moderate</td>\n",
       "    </tr>\n",
       "    <tr>\n",
       "      <th>1</th>\n",
       "      <td>2</td>\n",
       "      <td>2</td>\n",
       "      <td>Kimchijeon</td>\n",
       "      <td>Kimchijeon is a savory Korean pancake made wit...</td>\n",
       "      <td>15</td>\n",
       "      <td>15</td>\n",
       "      <td>Easy</td>\n",
       "    </tr>\n",
       "    <tr>\n",
       "      <th>2</th>\n",
       "      <td>3</td>\n",
       "      <td>2</td>\n",
       "      <td>Dubu Jorim</td>\n",
       "      <td>Dubu Jorim is a flavorful Korean tofu dish coo...</td>\n",
       "      <td>15</td>\n",
       "      <td>20</td>\n",
       "      <td>Easy</td>\n",
       "    </tr>\n",
       "    <tr>\n",
       "      <th>3</th>\n",
       "      <td>4</td>\n",
       "      <td>3</td>\n",
       "      <td>계란 후라이</td>\n",
       "      <td>egg fry</td>\n",
       "      <td>0</td>\n",
       "      <td>3</td>\n",
       "      <td>쉬움</td>\n",
       "    </tr>\n",
       "    <tr>\n",
       "      <th>4</th>\n",
       "      <td>5</td>\n",
       "      <td>2</td>\n",
       "      <td>Scramble Egg</td>\n",
       "      <td>Egg</td>\n",
       "      <td>0</td>\n",
       "      <td>3</td>\n",
       "      <td>Easy</td>\n",
       "    </tr>\n",
       "  </tbody>\n",
       "</table>\n",
       "</div>"
      ],
      "text/plain": [
       "   id  user               title  \\\n",
       "0   1     2  Korean Bibimbap zz   \n",
       "1   2     2          Kimchijeon   \n",
       "2   3     2          Dubu Jorim   \n",
       "3   4     3              계란 후라이   \n",
       "4   5     2        Scramble Egg   \n",
       "\n",
       "                                         description  preparation_time  \\\n",
       "0  Bibimbap is a signature Korean dish known for ...                30   \n",
       "1  Kimchijeon is a savory Korean pancake made wit...                15   \n",
       "2  Dubu Jorim is a flavorful Korean tofu dish coo...                15   \n",
       "3                                            egg fry                 0   \n",
       "4                                                Egg                 0   \n",
       "\n",
       "   cooking_time difficulty_level  \n",
       "0            25         Moderate  \n",
       "1            15             Easy  \n",
       "2            20             Easy  \n",
       "3             3               쉬움  \n",
       "4             3             Easy  "
      ]
     },
     "execution_count": 23,
     "metadata": {},
     "output_type": "execute_result"
    }
   ],
   "source": [
    "recipe_list = response.json()\n",
    "\n",
    "df = pd.DataFrame(recipe_list)\n",
    "\n",
    "df.head()"
   ]
  },
  {
   "cell_type": "code",
   "execution_count": 24,
   "id": "2a1a0ccb-cde1-48b7-8c10-7f1a3bccbd9f",
   "metadata": {},
   "outputs": [],
   "source": [
    "recipe_query = \"\"\"query MyQuery {\n",
    "  allRecipes {\n",
    "    difficultyLevel\n",
    "    title\n",
    "    id\n",
    "  }\n",
    "}\"\"\""
   ]
  },
  {
   "cell_type": "code",
   "execution_count": 25,
   "id": "2f961211-4142-467c-927b-54586ab970df",
   "metadata": {},
   "outputs": [],
   "source": [
    "graphql_url = 'http://localhost:8000/graphql/'  \n",
    "\n",
    "response = requests.get(graphql_url, json={'query': recipe_query})"
   ]
  },
  {
   "cell_type": "code",
   "execution_count": 30,
   "id": "f2725fd3-084a-4cc4-8229-173819c2d98e",
   "metadata": {},
   "outputs": [],
   "source": [
    "recipe_list = response.json()['data']['allRecipes']"
   ]
  },
  {
   "cell_type": "code",
   "execution_count": 32,
   "id": "05553cfa-32e6-493f-800a-5b902a1f3b48",
   "metadata": {},
   "outputs": [
    {
     "data": {
      "text/html": [
       "<div>\n",
       "<style scoped>\n",
       "    .dataframe tbody tr th:only-of-type {\n",
       "        vertical-align: middle;\n",
       "    }\n",
       "\n",
       "    .dataframe tbody tr th {\n",
       "        vertical-align: top;\n",
       "    }\n",
       "\n",
       "    .dataframe thead th {\n",
       "        text-align: right;\n",
       "    }\n",
       "</style>\n",
       "<table border=\"1\" class=\"dataframe\">\n",
       "  <thead>\n",
       "    <tr style=\"text-align: right;\">\n",
       "      <th></th>\n",
       "      <th>difficultyLevel</th>\n",
       "      <th>title</th>\n",
       "      <th>id</th>\n",
       "    </tr>\n",
       "  </thead>\n",
       "  <tbody>\n",
       "    <tr>\n",
       "      <th>0</th>\n",
       "      <td>Moderate</td>\n",
       "      <td>Korean Bibimbap zz</td>\n",
       "      <td>1</td>\n",
       "    </tr>\n",
       "    <tr>\n",
       "      <th>1</th>\n",
       "      <td>Easy</td>\n",
       "      <td>Kimchijeon</td>\n",
       "      <td>2</td>\n",
       "    </tr>\n",
       "    <tr>\n",
       "      <th>2</th>\n",
       "      <td>Easy</td>\n",
       "      <td>Dubu Jorim</td>\n",
       "      <td>3</td>\n",
       "    </tr>\n",
       "    <tr>\n",
       "      <th>3</th>\n",
       "      <td>쉬움</td>\n",
       "      <td>계란 후라이</td>\n",
       "      <td>4</td>\n",
       "    </tr>\n",
       "    <tr>\n",
       "      <th>4</th>\n",
       "      <td>Easy</td>\n",
       "      <td>Scramble Egg</td>\n",
       "      <td>5</td>\n",
       "    </tr>\n",
       "  </tbody>\n",
       "</table>\n",
       "</div>"
      ],
      "text/plain": [
       "  difficultyLevel               title id\n",
       "0        Moderate  Korean Bibimbap zz  1\n",
       "1            Easy          Kimchijeon  2\n",
       "2            Easy          Dubu Jorim  3\n",
       "3              쉬움              계란 후라이  4\n",
       "4            Easy        Scramble Egg  5"
      ]
     },
     "execution_count": 32,
     "metadata": {},
     "output_type": "execute_result"
    }
   ],
   "source": [
    "df = pd.DataFrame(recipe_list)\n",
    "\n",
    "df.head()"
   ]
  },
  {
   "cell_type": "code",
   "execution_count": null,
   "id": "621a3d53-bd29-4bfe-a4cc-f3fa1dcb2a23",
   "metadata": {},
   "outputs": [],
   "source": []
  },
  {
   "cell_type": "code",
   "execution_count": null,
   "id": "8d2d80bf-ba1c-4fdd-85e8-06d9598b2ae6",
   "metadata": {},
   "outputs": [],
   "source": []
  },
  {
   "cell_type": "code",
   "execution_count": null,
   "id": "2f7b5c20-a7fa-4ac5-ae77-280f235f3867",
   "metadata": {},
   "outputs": [],
   "source": []
  },
  {
   "cell_type": "code",
   "execution_count": 42,
   "id": "313397ce-59e5-4693-9df1-8bdf87d40499",
   "metadata": {},
   "outputs": [],
   "source": [
    "recipe_ingredient_list_url = 'http://localhost:8000/rest-api/recipe-ingredient/'\n",
    "\n",
    "response = requests.get(recipe_ingredient_list_url)"
   ]
  },
  {
   "cell_type": "code",
   "execution_count": 45,
   "id": "516b316e-7055-44c0-a426-83232be6a0a1",
   "metadata": {},
   "outputs": [
    {
     "data": {
      "text/html": [
       "<div>\n",
       "<style scoped>\n",
       "    .dataframe tbody tr th:only-of-type {\n",
       "        vertical-align: middle;\n",
       "    }\n",
       "\n",
       "    .dataframe tbody tr th {\n",
       "        vertical-align: top;\n",
       "    }\n",
       "\n",
       "    .dataframe thead th {\n",
       "        text-align: right;\n",
       "    }\n",
       "</style>\n",
       "<table border=\"1\" class=\"dataframe\">\n",
       "  <thead>\n",
       "    <tr style=\"text-align: right;\">\n",
       "      <th></th>\n",
       "      <th>recipe</th>\n",
       "      <th>ingredient</th>\n",
       "      <th>quantity</th>\n",
       "      <th>unit</th>\n",
       "    </tr>\n",
       "  </thead>\n",
       "  <tbody>\n",
       "    <tr>\n",
       "      <th>0</th>\n",
       "      <td>1</td>\n",
       "      <td>1</td>\n",
       "      <td>4.00</td>\n",
       "      <td>cups</td>\n",
       "    </tr>\n",
       "    <tr>\n",
       "      <th>1</th>\n",
       "      <td>1</td>\n",
       "      <td>2</td>\n",
       "      <td>200.00</td>\n",
       "      <td>grams</td>\n",
       "    </tr>\n",
       "    <tr>\n",
       "      <th>2</th>\n",
       "      <td>1</td>\n",
       "      <td>3</td>\n",
       "      <td>3.00</td>\n",
       "      <td>tablespoons</td>\n",
       "    </tr>\n",
       "    <tr>\n",
       "      <th>3</th>\n",
       "      <td>1</td>\n",
       "      <td>4</td>\n",
       "      <td>2.00</td>\n",
       "      <td>tablespoons</td>\n",
       "    </tr>\n",
       "    <tr>\n",
       "      <th>4</th>\n",
       "      <td>1</td>\n",
       "      <td>5</td>\n",
       "      <td>1.00</td>\n",
       "      <td>tablespoons</td>\n",
       "    </tr>\n",
       "  </tbody>\n",
       "</table>\n",
       "</div>"
      ],
      "text/plain": [
       "   recipe  ingredient quantity         unit\n",
       "0       1           1     4.00         cups\n",
       "1       1           2   200.00        grams\n",
       "2       1           3     3.00  tablespoons\n",
       "3       1           4     2.00  tablespoons\n",
       "4       1           5     1.00  tablespoons"
      ]
     },
     "execution_count": 45,
     "metadata": {},
     "output_type": "execute_result"
    }
   ],
   "source": [
    "recipe_ingredient_list = response.json()\n",
    "\n",
    "df = pd.DataFrame(recipe_ingredient_list)\n",
    "\n",
    "df.head()"
   ]
  },
  {
   "cell_type": "code",
   "execution_count": null,
   "id": "ca44dead-71a9-4dac-baab-ecc1a42d09b3",
   "metadata": {},
   "outputs": [],
   "source": []
  },
  {
   "cell_type": "code",
   "execution_count": 46,
   "id": "06ee91db-3ca6-463c-a206-196259215996",
   "metadata": {},
   "outputs": [],
   "source": [
    "ingredient_list_url = 'http://localhost:8000/rest-api/ingredient/'\n",
    "\n",
    "response = requests.get(ingredient_list_url)"
   ]
  },
  {
   "cell_type": "code",
   "execution_count": 47,
   "id": "f1c73090-aae2-46e8-9440-c2baef8536aa",
   "metadata": {},
   "outputs": [
    {
     "data": {
      "text/html": [
       "<div>\n",
       "<style scoped>\n",
       "    .dataframe tbody tr th:only-of-type {\n",
       "        vertical-align: middle;\n",
       "    }\n",
       "\n",
       "    .dataframe tbody tr th {\n",
       "        vertical-align: top;\n",
       "    }\n",
       "\n",
       "    .dataframe thead th {\n",
       "        text-align: right;\n",
       "    }\n",
       "</style>\n",
       "<table border=\"1\" class=\"dataframe\">\n",
       "  <thead>\n",
       "    <tr style=\"text-align: right;\">\n",
       "      <th></th>\n",
       "      <th>name</th>\n",
       "    </tr>\n",
       "  </thead>\n",
       "  <tbody>\n",
       "    <tr>\n",
       "      <th>0</th>\n",
       "      <td>Cooked rice</td>\n",
       "    </tr>\n",
       "    <tr>\n",
       "      <th>1</th>\n",
       "      <td>Beef</td>\n",
       "    </tr>\n",
       "    <tr>\n",
       "      <th>2</th>\n",
       "      <td>Soy sauce</td>\n",
       "    </tr>\n",
       "    <tr>\n",
       "      <th>3</th>\n",
       "      <td>Sesame oil</td>\n",
       "    </tr>\n",
       "    <tr>\n",
       "      <th>4</th>\n",
       "      <td>Sugar</td>\n",
       "    </tr>\n",
       "  </tbody>\n",
       "</table>\n",
       "</div>"
      ],
      "text/plain": [
       "          name\n",
       "0  Cooked rice\n",
       "1        Beef \n",
       "2    Soy sauce\n",
       "3   Sesame oil\n",
       "4        Sugar"
      ]
     },
     "execution_count": 47,
     "metadata": {},
     "output_type": "execute_result"
    }
   ],
   "source": [
    "ingredient_list = response.json()\n",
    "\n",
    "df = pd.DataFrame(ingredient_list)\n",
    "\n",
    "df.head()"
   ]
  },
  {
   "cell_type": "code",
   "execution_count": 37,
   "id": "0a5466e2-102b-41cc-a62a-618ba143f0ed",
   "metadata": {},
   "outputs": [],
   "source": [
    "recipe_ingredient_query = \"\"\"query MyQuery {\n",
    "  allRecipes {\n",
    "    difficultyLevel\n",
    "    title\n",
    "    id\n",
    "    recipeingredientSet {\n",
    "      ingredient {\n",
    "        name\n",
    "      }\n",
    "      quantity\n",
    "      unit\n",
    "    }\n",
    "  }\n",
    "}\"\"\""
   ]
  },
  {
   "cell_type": "code",
   "execution_count": 38,
   "id": "2bee1cea-820d-4dbf-8f93-ca363196a89e",
   "metadata": {},
   "outputs": [],
   "source": [
    "response = requests.get(graphql_url, json={'query': recipe_ingredient_query})"
   ]
  },
  {
   "cell_type": "code",
   "execution_count": 39,
   "id": "16bbe59b-87bd-4daf-9eae-0d047a20dfcc",
   "metadata": {},
   "outputs": [],
   "source": [
    "recipe_list = response.json()"
   ]
  },
  {
   "cell_type": "code",
   "execution_count": null,
   "id": "cb4ffc53-d458-49d9-a820-a186077a261c",
   "metadata": {},
   "outputs": [],
   "source": []
  }
 ],
 "metadata": {
  "kernelspec": {
   "display_name": "Python 3 (ipykernel)",
   "language": "python",
   "name": "python3"
  },
  "language_info": {
   "codemirror_mode": {
    "name": "ipython",
    "version": 3
   },
   "file_extension": ".py",
   "mimetype": "text/x-python",
   "name": "python",
   "nbconvert_exporter": "python",
   "pygments_lexer": "ipython3",
   "version": "3.11.4"
  }
 },
 "nbformat": 4,
 "nbformat_minor": 5
}
