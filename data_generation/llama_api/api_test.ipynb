{
 "cells": [
  {
   "cell_type": "markdown",
   "metadata": {},
   "source": [
    "# LlamaAPI tutorial\n",
    "\n",
    "reference: https://docs.llama-api.com/quickstart\n"
   ]
  },
  {
   "cell_type": "markdown",
   "metadata": {},
   "source": [
    "\n",
    "### Settings"
   ]
  },
  {
   "cell_type": "code",
   "execution_count": 36,
   "metadata": {},
   "outputs": [],
   "source": [
    "import os\n",
    "from dotenv import load_dotenv\n",
    "from datetime import datetime, timedelta\n",
    "\n",
    "\n",
    "# Load environment variables from .env file\n",
    "dotenv_path = os.path.join(os.path.dirname(__name__), '../../', '.env')  # Assuming .env is located one level up\n",
    "load_dotenv(dotenv_path)\n",
    "\n",
    "# Now you can access your environment variables\n",
    "llama_api_token = os.environ.get('LLAMA_API_TOKEN')\n"
   ]
  },
  {
   "cell_type": "markdown",
   "metadata": {},
   "source": [
    "### API request"
   ]
  },
  {
   "cell_type": "code",
   "execution_count": 75,
   "metadata": {},
   "outputs": [],
   "source": [
    "import json\n",
    "from llamaapi import LlamaAPI\n",
    "\n",
    "# Initialize the SDK\n",
    "llama = LlamaAPI(llama_api_token)"
   ]
  },
  {
   "cell_type": "markdown",
   "metadata": {},
   "source": [
    "#### Example 1"
   ]
  },
  {
   "cell_type": "code",
   "execution_count": null,
   "metadata": {},
   "outputs": [],
   "source": [
    "# Build the API request\n",
    "api_request_json = {\n",
    "    \"messages\": [\n",
    "        {\"role\": \"user\", \"content\": \"What is the weather like in Boston?\"},\n",
    "    ],\n",
    "    \"functions\": [\n",
    "        {\n",
    "            \"name\": \"get_current_weather\",\n",
    "            \"description\": \"Get the current weather in a given location\",\n",
    "            \"parameters\": {\n",
    "                \"type\": \"object\",\n",
    "                \"properties\": {\n",
    "                    \"location\": {\n",
    "                        \"type\": \"string\",\n",
    "                        \"description\": \"The city and state, e.g. San Francisco, CA\",\n",
    "                    },\n",
    "                    \"days\": {\n",
    "                        \"type\": \"number\",\n",
    "                        \"description\": \"for how many days ahead you wants the forecast\",\n",
    "                    },\n",
    "                    \"unit\": {\"type\": \"string\", \"enum\": [\"celsius\", \"fahrenheit\"]},\n",
    "                },\n",
    "            },\n",
    "            \"required\": [\"location\", \"days\"],\n",
    "        }\n",
    "    ],\n",
    "    \"stream\": False,\n",
    "    \"function_call\": \"get_current_weather\",\n",
    "}\n",
    "\n",
    "# Execute the Request\n",
    "response = llama.run(api_request_json)\n",
    "print(json.dumps(response.json(), indent=2))"
   ]
  },
  {
   "cell_type": "code",
   "execution_count": 42,
   "metadata": {},
   "outputs": [
    {
     "name": "stdout",
     "output_type": "stream",
     "text": [
      "{\n",
      "  \"role\": \"assistant\",\n",
      "  \"content\": null,\n",
      "  \"function_call\": {\n",
      "    \"name\": \"get_flight_info\",\n",
      "    \"arguments\": {\n",
      "      \"loc_origin\": \"Amsterdam\",\n",
      "      \"loc_destination\": \"New York\"\n",
      "    }\n",
      "  }\n",
      "}\n"
     ]
    }
   ],
   "source": [
    "answer = response.json()['choices'][0]['message']\n",
    "print(json.dumps(answer, indent=2))"
   ]
  },
  {
   "cell_type": "markdown",
   "metadata": {},
   "source": [
    "#### Example 2"
   ]
  },
  {
   "cell_type": "code",
   "execution_count": 32,
   "metadata": {},
   "outputs": [],
   "source": [
    "# Build the Request\n",
    "api_request_json = {\n",
    "  'model': 'llama-13b-chat',\n",
    "  'functions': [\n",
    "      {\n",
    "          \"name\": \"get_flight_info\",\n",
    "          \"description\": \"Get flight information between two locations\",\n",
    "          \"parameters\": {\n",
    "              \"type\": \"object\",\n",
    "              \"properties\": {\n",
    "                  \"loc_origin\": {\n",
    "                      \"type\": \"string\",\n",
    "                      \"description\": \"The departure airport, e.g. DUS\"\n",
    "                  },\n",
    "                  \"loc_destination\": {\n",
    "                      \"type\": \"string\",\n",
    "                      \"description\": \"The destination airport, e.g. HAM\"\n",
    "                  }\n",
    "              },\n",
    "          \"required\": [\"loc_origin\", \"loc_destination\"]\n",
    "          }\n",
    "      }\n",
    "  ],\n",
    "  'function_call': {'name': 'get_flight_info'},\n",
    "  'messages': [\n",
    "      {'role': 'user', 'content': \"When's the next flight from Amsterdam to New York?\"}],\n",
    "}\n",
    "\n",
    "# Execute the Request\n",
    "response = llama.run(api_request_json)\n",
    "# Save the answer\n",
    "output = response.json()['choices'][0]['message']"
   ]
  },
  {
   "cell_type": "code",
   "execution_count": 37,
   "metadata": {},
   "outputs": [],
   "source": [
    "def get_flight_info(loc_origin, loc_destination):\n",
    "  flight_info = {\n",
    "  \"loc_origin\": loc_origin,\n",
    "  \"loc_destination\": loc_destination,\n",
    "  \"datetime\": str(datetime.now() + timedelta(hours=2)),\n",
    "  \"airline\": \"KLM\",\n",
    "  \"flight_number\": \"KL 123\",\n",
    "  }\n",
    "\n",
    "  return json.dumps(flight_info)\n",
    "\n",
    "arguments = output['function_call']['arguments']\n",
    "origin = arguments.get('loc_origin', None)\n",
    "destination = arguments.get('loc_destination', None)\n",
    "\n",
    "## Call the method\n",
    "flight_info = get_flight_info(origin, destination)\n"
   ]
  },
  {
   "cell_type": "code",
   "execution_count": 39,
   "metadata": {},
   "outputs": [
    {
     "name": "stdout",
     "output_type": "stream",
     "text": [
      "The next flight from Amsterdam to New York is KLM flight KL 123, departing Amsterdam at 06:00 AM on March 29, 2024, and arriving at New York John F. Kennedy International Airport at 08:30 AM. Would you like me to book a flight for you?\n"
     ]
    }
   ],
   "source": [
    "users_promt = \"When's the next flight from Amsterdam to New York?\"\n",
    "# function_description = \n",
    "\n",
    "second_api_request_json = {\n",
    "  \"model\": \"llama-70b-chat\",\n",
    "  \"messages\": [\n",
    "    {\"role\": \"user\", \"content\": users_promt},\n",
    "    {\"role\": \"function\", \"name\": output['function_call']['name'], \"content\": flight_info}\n",
    "  ],\n",
    "  # \"functions\": function_description,\n",
    "}\n",
    "\n",
    "second_request = llama.run(second_api_request_json)\n",
    "print(second_request.json()['choices'][0]['message']['content'])\n"
   ]
  },
  {
   "cell_type": "markdown",
   "metadata": {},
   "source": [
    "#### Custom"
   ]
  },
  {
   "cell_type": "code",
   "execution_count": 76,
   "metadata": {},
   "outputs": [],
   "source": [
    "api_request_json = {\n",
    "    \"messages\": [\n",
    "        {\"role\": \"user\", \"content\": \"list 4 cooking recipes\"},\n",
    "        {\"role\": \"assistant\", \"content\": \"Chicken Parmesan, Lemon Garlic Shrimp, Beef Stroganoff, Lasagna\"},\n",
    "        {\"role\": \"user\", \"content\": \"list 30 cooking recipes\"},\n",
    "\n",
    "    ],\n",
    "}\n",
    "\n",
    "\n",
    "response = llama.run(api_request_json)\n",
    "# print(json.dumps(response.json(), indent=2))"
   ]
  },
  {
   "cell_type": "code",
   "execution_count": 78,
   "metadata": {},
   "outputs": [
    {
     "name": "stdout",
     "output_type": "stream",
     "text": [
      "1. Chicken Parmesan\n",
      "2. Lemon Garlic Shrimp\n",
      "3. Beef\n"
     ]
    }
   ],
   "source": [
    "recipe_list = response.json()['choices'][0]['message']['content']\n",
    "print(recipe_list[:50])"
   ]
  },
  {
   "cell_type": "code",
   "execution_count": 82,
   "metadata": {},
   "outputs": [],
   "source": [
    "api_request_json = {\n",
    "    \"messages\": [\n",
    "        {\"role\": \"user\", \"content\": \"list cooking recipes\"},\n",
    "        {\"role\": \"assistant\", \"content\": recipe_list},\n",
    "        {\"role\": \"user\", \"content\": \"give me description, preperation time, cooking time, difficulty level, ingredient(name, quantity, unit), tags(e.g. tasty, italian, healthy) for each recipe\"},\n",
    "    ],\n",
    "}\n",
    "\n",
    "response = llama.run(api_request_json)"
   ]
  },
  {
   "cell_type": "code",
   "execution_count": 87,
   "metadata": {},
   "outputs": [],
   "source": [
    "answers = []\n",
    "answer = response.json()['choices'][0]['message']['content']\n",
    "answers.append(answer)\n",
    "\n",
    "messages = [\n",
    "    {\"role\": \"user\", \"content\": \"list cooking recipes\"},\n",
    "    {\"role\": \"assistant\", \"content\": recipe_list},\n",
    "    {\"role\": \"user\", \"content\": \"give me description, preperation time, cooking time, difficulty level, ingredient(name, quantity, unit), tags(e.g. tasty, italian, healthy) for each recipe\"},\n",
    "    ]\n",
    "\n",
    "new_message = {\"role\": \"assistant\", \"content\": answer}\n",
    "messages.append(new_message)\n"
   ]
  },
  {
   "cell_type": "code",
   "execution_count": 95,
   "metadata": {},
   "outputs": [],
   "source": [
    "\n",
    "api_request_json = {\n",
    "    \"messages\": messages,\n",
    "}\n",
    "\n",
    "response = llama.run(api_request_json)"
   ]
  },
  {
   "cell_type": "code",
   "execution_count": 97,
   "metadata": {},
   "outputs": [
    {
     "name": "stdout",
     "output_type": "stream",
     "text": [
      "<Response [200]>\n"
     ]
    }
   ],
   "source": [
    "\n",
    "answer = response.json()['choices'][0]['message']['content']\n",
    "print(answer)"
   ]
  },
  {
   "cell_type": "code",
   "execution_count": 98,
   "metadata": {},
   "outputs": [
    {
     "data": {
      "text/plain": [
       "{'created': 1711654318,\n",
       " 'model': 'llama-13b-chat',\n",
       " 'usage': {'prompt_tokens': 11, 'completion_tokens': 748, 'total_tokens': 759},\n",
       " 'choices': [{'index': 0,\n",
       "   'message': {'role': 'assistant',\n",
       "    'content': '1. Chicken Parmesan\\n\\t* Description: Breaded and fried chicken topped with melted mozzarella cheese and marinara sauce, served with pasta.\\n\\t* Preperation Time: 20 minutes\\n\\t* Cooking Time: 25 minutes\\n\\t* Difficulty Level: Easy\\n\\t* Ingredients:\\n\\t\\t+ Chicken breasts (4), boneless and skinless (1 lb)\\n\\t\\t+ All-purpose flour (1 cup)\\n\\t\\t+ Breadcrumbs (1 cup)\\n\\t\\t+ Eggs (2)\\n\\t\\t+ Salt (to taste)\\n\\t\\t+ Pepper (to taste)\\n\\t\\t+ Olive oil (for frying)\\n\\t\\t+ Marinara sauce (1 cup)\\n\\t\\t+ Mozzarella cheese (1 cup, shredded)\\n\\t\\t+ Pasta (1 lb)\\n\\t* Tags: tasty, italian, easy\\n2. Lemon Garlic Shrimp\\n\\t* Description: Shrimp sautéed in garlic butter and lemon, served with rice.\\n\\t* Preperation Time: 15 minutes\\n\\t* Cooking Time: 10 minutes\\n\\t* Difficulty Level: Easy\\n\\t* Ingredients:\\n\\t\\t+ Shrimp (1 lb, peeled and deveined)\\n\\t\\t+ Garlic (3 cloves, minced)\\n\\t\\t+ Butter (2 tbsp)\\n\\t\\t+ Lemon juice (2 tbsp)\\n\\t\\t+ Salt (to taste)\\n\\t\\t+ Pepper (to taste)\\n\\t\\t+ Rice (1 cup, cooked)\\n\\t* Tags: tasty, seafood, easy\\n3. Beef Stroganoff\\n\\t* Description: Sautéed beef strips in a creamy mushroom sauce, served over egg noodles.\\n\\t* Preperation Time: 25 minutes\\n\\t* Cooking Time: 20 minutes\\n\\t* Difficulty Level: Medium\\n\\t* Ingredients:\\n\\t\\t+ Beef strips (1 lb, cut into bite-sized pieces)\\n\\t\\t+ Mushrooms (1 cup, sliced)\\n\\t\\t+ Onions (1 cup, diced)\\n\\t\\t+ Garlic (2 cloves, minced)\\n\\t\\t+ Butter (2 tbsp)\\n\\t\\t+ Cream (1 cup)\\n\\t\\t+ Egg noodles (1 cup, cooked)\\n\\t\\t+ Salt (to taste)\\n\\t\\t+ Pepper (to taste)\\n\\t* Tags: tasty, beef, medium\\n4. Lasagna\\n\\t* Description: Layered pasta, meat sauce, and cheese.\\n\\t* Preperation Time: 30 minutes\\n\\t* Cooking Time: 35 minutes\\n\\t* Difficulty Level: Medium\\n\\t* Ingredients:\\n\\t\\t+ Pasta (8 lasagna noodles)\\n\\t\\t+ Meat sauce (1 cup, homemade or store-bought)\\n\\t\\t+ Ricotta cheese (1 cup, mixed with 1 egg)\\n\\t\\t+ Mozzarella cheese (2 cups, shredded)\\n\\t\\t+ Parmesan cheese (1/2 cup, grated)\\n\\t\\t+ Egg (1)\\n\\t\\t+ Salt (to taste)\\n\\t\\t+ Pepper (to taste)\\n\\t* Tags: tasty, italian, medium\\n5. Creamy Tomato Pasta\\n\\t* Description: Pasta tossed in a creamy tomato sauce.\\n\\t* Preperation Time: 20 minutes\\n\\t* Cooking Time: 15 minutes\\n\\t* Difficulty Level: Easy\\n\\t* Ingredients:\\n\\t\\t+ Pasta (1 lb)\\n\\t\\t+ Tomato sauce (1 cup, homemade or store-bought)\\n\\t\\t+ Heavy cream (1/2 cup)\\n\\t\\t+ Salt (to taste)\\n\\t\\t+ Pepper (to taste)\\n\\t* Tags: tasty, easy, creamy\\n6. Baked Ziti\\n\\t* Description: Baked pasta, meat sauce, and cheese.\\n\\t* Preperation Time: 25 minutes',\n",
       "    'function_call': None},\n",
       "   'finish_reason': 'max_token'}]}"
      ]
     },
     "execution_count": 98,
     "metadata": {},
     "output_type": "execute_result"
    }
   ],
   "source": [
    "response.json()"
   ]
  },
  {
   "cell_type": "code",
   "execution_count": 100,
   "metadata": {},
   "outputs": [],
   "source": [
    "api_request_json = {\n",
    "    \"messages\": [\n",
    "        {\"role\": \"user\", \"content\": \"list cooking recipes\"},\n",
    "        {\"role\": \"assistant\", \"content\": recipe_list},\n",
    "        {\"role\": \"user\", \"content\": \"give me description, preperation time, cooking time, difficulty level, ingredient(name, quantity, unit), tags(e.g. tasty, italian, healthy) for each recipe\"},\n",
    "        {\"role\": \"assistant\", \"content\": answers[0]},\n",
    "    ],\n",
    "}\n",
    "\n",
    "\n",
    "\n",
    "response = llama.run(api_request_json)"
   ]
  },
  {
   "cell_type": "code",
   "execution_count": 101,
   "metadata": {},
   "outputs": [
    {
     "name": "stdout",
     "output_type": "stream",
     "text": [
      "25 minutes.\n",
      "\n",
      "Here is the list of ingredients, preparation time, cooking time, difficulty level, and tags for each recipe:\n",
      "\n",
      "1. Chicken Parmesan:\n",
      "\t* Ingredients: chicken breasts, all-purpose flour, breadcrumbs, eggs, salt, pepper, olive oil, marinara sauce, mozzarella cheese, pasta.\n",
      "\t* Preparation time: 20 minutes\n",
      "\t* Cooking time: 25 minutes\n",
      "\t* Difficulty level: Easy\n",
      "\t* Tags: tasty, italian, easy\n",
      "2. Lemon Garlic Shrimp:\n",
      "\t* Ingredients: shrimp, garlic, butter, lemon juice, salt, pepper, rice.\n",
      "\t* Preparation time: 15 minutes\n",
      "\t* Cooking time: 10 minutes\n",
      "\t* Difficulty level: Easy\n",
      "\t* Tags: tasty, seafood, easy\n",
      "3. Beef Stroganoff:\n",
      "\t* Ingredients: beef strips, mushrooms, onions, garlic, butter, cream, egg noodles, salt, pepper.\n",
      "\t* Preparation time: 25 minutes\n",
      "\t* Cooking time: 20 minutes\n",
      "\t* Difficulty level: Medium\n",
      "\t* Tags: tasty, beef, medium\n",
      "4. Lasagna:\n",
      "\t* Ingredients: pasta, meat sauce, ricotta cheese, mozzarella cheese, parmesan cheese, egg, salt, pepper.\n",
      "\t* Preparation time: 30 minutes\n",
      "\t* Cooking time: 35 minutes\n",
      "\t* Difficulty level: Medium\n",
      "\t* Tags: tasty, italian, medium\n",
      "5. Creamy Tomato Pasta:\n",
      "\t* Ingredients: pasta, tomato sauce, heavy cream, salt, pepper.\n",
      "\t* Preparation time: 20 minutes\n",
      "\t* Cooking time: 15 minutes\n",
      "\t* Difficulty level: Easy\n",
      "\t* Tags: tasty, easy, creamy\n",
      "6. Baked Ziti:\n",
      "\t* Ingredients: pasta, meat sauce, ricotta cheese, mozzarella cheese, parmesan cheese, egg, salt, pepper.\n",
      "\t* Preparation time: 25 minutes\n",
      "\t* Cooking time: 25 minutes\n",
      "\t* Difficulty level: Medium\n",
      "\t* Tags: tasty, italian, medium\n",
      "\n",
      "I hope this helps! Let me know if you have any other questions.\n"
     ]
    }
   ],
   "source": [
    "\n",
    "answer = response.json()['choices'][0]['message']['content']\n",
    "print(answer)"
   ]
  }
 ],
 "metadata": {
  "kernelspec": {
   "display_name": "venv",
   "language": "python",
   "name": "python3"
  },
  "language_info": {
   "codemirror_mode": {
    "name": "ipython",
    "version": 3
   },
   "file_extension": ".py",
   "mimetype": "text/x-python",
   "name": "python",
   "nbconvert_exporter": "python",
   "pygments_lexer": "ipython3",
   "version": "3.11.4"
  }
 },
 "nbformat": 4,
 "nbformat_minor": 2
}
